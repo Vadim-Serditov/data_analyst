{
 "cells": [
  {
   "cell_type": "markdown",
   "id": "abecb067",
   "metadata": {},
   "source": [
    "Дан произвольный список, содержащий только числа. Выведите результат сложения всех чисел больше 10"
   ]
  },
  {
   "cell_type": "code",
   "execution_count": 12,
   "id": "0a3b7f9d",
   "metadata": {},
   "outputs": [
    {
     "name": "stdout",
     "output_type": "stream",
     "text": [
      "163\n"
     ]
    }
   ],
   "source": [
    "some_list = [1,14,16,2,96,26,4,1,7,11]\n",
    "sum_10 = 0\n",
    "for i in some_list:\n",
    "    if i>10:\n",
    "        sum_10 += i\n",
    "print (sum_10)"
   ]
  },
  {
   "cell_type": "markdown",
   "id": "e8408d65",
   "metadata": {},
   "source": [
    "Пусть задан список, содержащий строки. Выведите все строки, заканчивающиеся буквой r."
   ]
  },
  {
   "cell_type": "code",
   "execution_count": 27,
   "id": "1b1b703a",
   "metadata": {
    "scrolled": true
   },
   "outputs": [
    {
     "name": "stdout",
     "output_type": "stream",
     "text": [
      "trigger\n",
      "ends with r\n"
     ]
    }
   ],
   "source": [
    "some_other_list =['Mama','just', 'killed', 'a', 'man', 'put', 'gun', 'against', 'trigger', 'head', 'ends with r']\n",
    "for i in some_other_list: \n",
    "    if i[-1] ==('r'):\n",
    "        print (i)\n"
   ]
  },
  {
   "cell_type": "markdown",
   "id": "9131f178",
   "metadata": {},
   "source": [
    "Сгенерируйте и выведите cлучайную строку размером 6 символов, содержащую только цифры. Строка должна содержать хотя\n",
    "бы одну цифру 3."
   ]
  },
  {
   "cell_type": "code",
   "execution_count": 4,
   "id": "53c44f43",
   "metadata": {},
   "outputs": [
    {
     "name": "stdout",
     "output_type": "stream",
     "text": [
      "931613\n"
     ]
    }
   ],
   "source": [
    "import random\n",
    "number =0\n",
    "while '3' not in str(number):\n",
    "    number=random.randint(100000,999999)\n",
    "print (number)"
   ]
  },
  {
   "cell_type": "markdown",
   "id": "a822e8b6",
   "metadata": {},
   "source": [
    "Пусть дана строка произвольной длины. Выведите информацию о том, сколько в ней символов и сколько слов."
   ]
  },
  {
   "cell_type": "code",
   "execution_count": 9,
   "id": "8d3593a6",
   "metadata": {},
   "outputs": [
    {
     "name": "stdout",
     "output_type": "stream",
     "text": [
      "Количество слов - 9\n",
      "Количество символов - 50\n"
     ]
    }
   ],
   "source": [
    "some_string = 'Anyway the wind blows, doesn/t really matter to me'\n",
    "print ('Количество слов - ' + str(len(some_string.split())))\n",
    "print ('Количество символов - ' + str(len(some_string)))"
   ]
  },
  {
   "cell_type": "markdown",
   "id": "04cb7e9d",
   "metadata": {},
   "source": [
    "Пусть дана матрица чисел размером NхN. Представьте данную матрицу в виде списка. Выведите результат сложения всех элементов\n",
    "матрицы."
   ]
  },
  {
   "cell_type": "code",
   "execution_count": 19,
   "id": "8d0e8d18",
   "metadata": {},
   "outputs": [
    {
     "name": "stdout",
     "output_type": "stream",
     "text": [
      "45\n",
      "[[1, 2, 3], [4, 5, 6], [7, 8, 9]]\n"
     ]
    }
   ],
   "source": [
    "import numpy as np\n",
    "matrix = [\n",
    "    [1, 2, 3],\n",
    "    [4 ,5 ,6],\n",
    "    [7, 8, 9]\n",
    "]\n",
    "print (np.sum(matrix))\n",
    "print (list(matrix))"
   ]
  },
  {
   "cell_type": "markdown",
   "id": "e09c3d1d",
   "metadata": {},
   "source": [
    "Дана матрица размером NxM. Напишите алгоритм вычисления максимума из сумм элементов каждого столбца."
   ]
  },
  {
   "cell_type": "code",
   "execution_count": 21,
   "id": "297b1f25",
   "metadata": {},
   "outputs": [
    {
     "name": "stdout",
     "output_type": "stream",
     "text": [
      "20\n"
     ]
    }
   ],
   "source": [
    "matrix = [\n",
    "    [1, 3, 5, 0, 1, 2, 3],\n",
    "    [6, 3, 2, 4, 2, 2, 1],\n",
    "    [4, 1, 1, 0, 0, 9, 2],\n",
    "    [7, 9, 6, 3, 3, 7, 5]\n",
    "]\n",
    "print(max(np.sum(matrix, axis=0)))"
   ]
  },
  {
   "cell_type": "markdown",
   "id": "6697136a",
   "metadata": {},
   "source": [
    "Пусть список студентов представлен в виде структуры [[No, ФИО, Возраст,Группа],[No\n",
    "Преобразуйте список в словарь вида: {No: [ФИО, Возраст, Группа], No:[....], No: [....]}"
   ]
  },
  {
   "cell_type": "code",
   "execution_count": 23,
   "id": "83307ee7",
   "metadata": {},
   "outputs": [
    {
     "name": "stdout",
     "output_type": "stream",
     "text": [
      "{1230123: ['Ivanov', 21, 'PYDA-1']}\n",
      "{1230123: ['Ivanov', 21, 'PYDA-1'], 4560456: ['Petrov', 18, 'ADPY-3']}\n",
      "{1230123: ['Ivanov', 21, 'PYDA-1'], 4560456: ['Petrov', 18, 'ADPY-3'], 7890789: ['Sidorov', 20, 'PYDA-1']}\n",
      "{1230123: ['Ivanov', 21, 'PYDA-1'], 4560456: ['Petrov', 18, 'ADPY-3'], 7890789: ['Sidorov', 20, 'PYDA-1'], 3210321: ['Cook', 20, 'PYDA-2']}\n"
     ]
    }
   ],
   "source": [
    "data=  [\n",
    "    [1230123, 'Ivanov', 21,'PYDA-1'],\n",
    "    [4560456, 'Petrov', 18,'ADPY-3'],\n",
    "    [7890789, 'Sidorov', 20,'PYDA-1'],\n",
    "    [3210321, 'Cook', 20,'PYDA-2']\n",
    "]\n",
    "data_dict = dict()\n",
    "for item in data:\n",
    "    data_dict[item[0]]= item[1:]\n",
    "    print (data_dict)"
   ]
  },
  {
   "cell_type": "markdown",
   "id": "97485c70",
   "metadata": {},
   "source": [
    "Напишите алгоритм, позволяющий найти запись в словаре из задачи 3.1 (без преобразования словаря обратно в список) по фамилии\n",
    "и изменить в ней номер группы и возраст. Фамилию,новый номер группы и возраст необходимо ввести с клавиатуры"
   ]
  },
  {
   "cell_type": "code",
   "execution_count": 35,
   "id": "b407154d",
   "metadata": {},
   "outputs": [
    {
     "name": "stdout",
     "output_type": "stream",
     "text": [
      "FamilyIvanov\n",
      "New Group78735\n",
      "New Age20\n",
      "{1230123: ['Ivanov', '20', '78735'], 4560456: ['Petrov', 18, 'ADPY-3'], 7890789: ['Sidorov', 20, 'PYDA-1'], 3210321: ['Cook', 20, 'PYDA-2']}\n"
     ]
    }
   ],
   "source": [
    "student = input('Family')\n",
    "new_group = input ('New Group')\n",
    "new_age = input ('New Age')\n",
    "for item in data_dict.values():\n",
    "    if student in item:\n",
    "        item[2]=new_group\n",
    "        item[1]=new_age\n",
    "        print (data_dict)\n",
    "    "
   ]
  },
  {
   "cell_type": "code",
   "execution_count": null,
   "id": "4d0f2e8c",
   "metadata": {},
   "outputs": [],
   "source": []
  }
 ],
 "metadata": {
  "kernelspec": {
   "display_name": "Python 3 (ipykernel)",
   "language": "python",
   "name": "python3"
  },
  "language_info": {
   "codemirror_mode": {
    "name": "ipython",
    "version": 3
   },
   "file_extension": ".py",
   "mimetype": "text/x-python",
   "name": "python",
   "nbconvert_exporter": "python",
   "pygments_lexer": "ipython3",
   "version": "3.9.13"
  }
 },
 "nbformat": 4,
 "nbformat_minor": 5
}
